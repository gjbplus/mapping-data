{
 "cells": [
  {
   "cell_type": "code",
   "execution_count": 7,
   "metadata": {},
   "outputs": [
    {
     "name": "stdout",
     "output_type": "stream",
     "text": [
      "780 wines in complete wine list\n"
     ]
    }
   ],
   "source": [
    "from csv import DictReader\n",
    "import json\n",
    "\n",
    "# create lists for storing: all wines and three queries\n",
    "wines = []\n",
    "white_wines = []\n",
    "wine_rating_90_92 = []\n",
    "italy_wines = []\n",
    "\n",
    "# Open the CSV file and read it into a list of dictionaries and ignore unicode errors\n",
    "with open('sample_data/wine-ratings-small.csv', encoding='utf-8', errors='ignore') as f:\n",
    "    reader = DictReader(f)\n",
    "    wines = list(reader)\n",
    "    print(f\"{len(wines)} wines in complete wine list\")"
   ]
  },
  {
   "cell_type": "code",
   "execution_count": 8,
   "metadata": {},
   "outputs": [
    {
     "name": "stdout",
     "output_type": "stream",
     "text": [
      "201 white wines where found\n"
     ]
    }
   ],
   "source": [
    "# Part a)  This code creates a new list that only has the white wines variety . \n",
    "# The new list is called white_wines:\n",
    "\n",
    "for wine in wines:\n",
    "    if 'White Wine' in wine['variety']:\n",
    "        white_wines.append(wine)\n",
    "\n",
    "print(f\"{len(white_wines)} white wines where found\")"
   ]
  },
  {
   "cell_type": "code",
   "execution_count": 9,
   "metadata": {},
   "outputs": [
    {
     "name": "stdout",
     "output_type": "stream",
     "text": [
      "514 wines with 90 to 92 rating where found\n"
     ]
    }
   ],
   "source": [
    "# Part b)  This code creates a new list that only has the wines to has a rating between 90 to 92 . \n",
    "# The new list is called wine_rating_90_92:\n",
    "\n",
    "for wine in wines:\n",
    "    if '90' in wine['rating'] or '91' in wine['rating'] or '92' in wine['rating'] :\n",
    "        wine_rating_90_92.append(wine)\n",
    "\n",
    "print(f\"{len(wine_rating_90_92)} wines with 90 to 92 rating where found\")"
   ]
  },
  {
   "cell_type": "code",
   "execution_count": 10,
   "metadata": {},
   "outputs": [
    {
     "name": "stdout",
     "output_type": "stream",
     "text": [
      "136 wines from Italy where found\n"
     ]
    }
   ],
   "source": [
    "# Part c)  This code creates a new list that only has the Italy wines. \n",
    "# The new list is called italy-wines:\n",
    "\n",
    "for wine in wines:\n",
    "    if 'Italy' in wine['region'] :\n",
    "        italy_wines.append(wine)\n",
    "\n",
    "print(f\"{len(italy_wines)} wines from Italy where found\")"
   ]
  },
  {
   "cell_type": "code",
   "execution_count": 11,
   "metadata": {},
   "outputs": [],
   "source": [
    "# now use the `.dump()` JSON method to save it to a new JSON file\n",
    "# save white-wines json file\n",
    "\n",
    "with open('sample_data/white-wines.json', 'w') as f:\n",
    "    json.dump(white_wines, f, indent=2)"
   ]
  },
  {
   "cell_type": "code",
   "execution_count": 12,
   "metadata": {},
   "outputs": [],
   "source": [
    "# now use the `.dump()` JSON method to save it to a new JSON file\n",
    "# save wine-rating-90-92 json file\n",
    "with open('sample_data/wine-rating-90-92.json', 'w') as f:\n",
    "    json.dump(wine_rating_90_92, f, indent=2)"
   ]
  },
  {
   "cell_type": "code",
   "execution_count": null,
   "metadata": {},
   "outputs": [],
   "source": [
    "# now use the `.dump()` JSON method to save it to a new JSON file\n",
    "# save italy-wines json file\n",
    "with open('sample_data/Italy-wines.json', 'w') as f:\n",
    "    json.dump(italy_wines, f, indent=2)"
   ]
  }
 ],
 "metadata": {
  "kernelspec": {
   "display_name": "Python 3",
   "language": "python",
   "name": "python3"
  },
  "language_info": {
   "codemirror_mode": {
    "name": "ipython",
    "version": 3
   },
   "file_extension": ".py",
   "mimetype": "text/x-python",
   "name": "python",
   "nbconvert_exporter": "python",
   "pygments_lexer": "ipython3",
   "version": "3.12.0"
  }
 },
 "nbformat": 4,
 "nbformat_minor": 2
}
